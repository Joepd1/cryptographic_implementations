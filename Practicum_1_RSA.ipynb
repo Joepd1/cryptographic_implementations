{
 "cells": [
  {
   "cell_type": "markdown",
   "metadata": {},
   "source": [
    "# Practicum 1: RSA"
   ]
  },
  {
   "cell_type": "markdown",
   "metadata": {},
   "source": [
    "**Naam**: "
   ]
  },
  {
   "cell_type": "markdown",
   "metadata": {},
   "source": [
    "Dit eerste practicum gaat over RSA. Het is echter nog steeds de bedoeling dat je alles wat hier geprogrammeerd zal worden ook met de hand en rekenmachine kan uitrekenen, maar vaak verkrijg je pas echt inzicht in een probleem als je het eens zelf implementeert. Het is dus sterk aangeraden zelf goed na te denken over wat je programmeert. Om jullie op weg te helpen is telkens de signatuur van de methodes gegeven, gelieve deze niet te veranderen. Je mag uiteraard zelf hulpmethodes en comments invoegen om je code duidelijker te maken. Er wordt af en toe gevraagd een antwoord aan te vullen in de notebook, het is overzichtelijker om dit in kleur te doen. "
   ]
  },
  {
   "cell_type": "markdown",
   "metadata": {},
   "source": [
    "## Modulaire exponentiatie"
   ]
  },
  {
   "cell_type": "markdown",
   "metadata": {},
   "source": [
    "Voor het XS binair algoritme is de binaire voorstelling van een de exponent nodig. Vul de code in de onderstaande methode aan zodat de methode een lijst met enen en nullen terug geeft, die een binaire voorstelling van b is. De bit behorende bij de hoogste macht van 2 staat vanvoor in de lijst en de bit behorende bij de laagste macht van 2 staat vanachter."
   ]
  },
  {
   "cell_type": "code",
   "execution_count": null,
   "metadata": {},
   "outputs": [],
   "source": [
    "def bits(b):\n",
    "    # vul aan\n",
    "    return bits"
   ]
  },
  {
   "cell_type": "markdown",
   "metadata": {},
   "source": [
    "Vul de onderstaande methode verder aan zodat het XS binair algoritme wordt geimplementeerd. Het resultaat is $r = a^b \\mod{m}$."
   ]
  },
  {
   "cell_type": "code",
   "execution_count": null,
   "metadata": {},
   "outputs": [],
   "source": [
    "def mod_exp(a, b, m):\n",
    "    #vul aan\n",
    "    return r"
   ]
  },
  {
   "cell_type": "markdown",
   "metadata": {},
   "source": [
    "Vergelijk de snelheid van je implementatie met de naı̈ve en ingebouwde implementatie van\n",
    "modulaire exponentiatie in python. (Hint: $\\texttt{pow}$) Het resultaat is een mooie staafdiagram met drie staven met op de x-as de naam van de methode en op de y-as de snelheid in zelfgekozen eenheden."
   ]
  },
  {
   "cell_type": "code",
   "execution_count": null,
   "metadata": {},
   "outputs": [],
   "source": [
    "import matplotlib.pyplot as plt\n",
    "import numpy as np\n",
    "import random\n",
    "import time\n",
    "\n",
    "# genereer willekeurige getallen\n",
    "\n",
    "\n",
    "\n",
    "# test methodes op getallen\n",
    "\n",
    "\n",
    "\n",
    "# plot resultaten\n"
   ]
  },
  {
   "cell_type": "markdown",
   "metadata": {},
   "source": [
    "In hoogstens een paar zinnen, leg kort uit waarom je deze resultaten kan verwachten."
   ]
  },
  {
   "cell_type": "markdown",
   "metadata": {},
   "source": [
    "**Antwoord**:"
   ]
  },
  {
   "cell_type": "markdown",
   "metadata": {},
   "source": [
    "## Pseudopriemtesten"
   ]
  },
  {
   "cell_type": "markdown",
   "metadata": {},
   "source": [
    "Met een paar kleine aanpassingen kan je het XS binair algoritme gebruiken voor de sterke priemtest. Vul onderstaande methodes aan zodat de modulaire exponentiatie de sequentie van tussenstappen weergeeft (of minstens de laatste stappen, die relevant zijn voor de sterke priemtest). En zodat de methode strong_pseudoprime(a, m) deze sequentie inspecteert en de waarde True teruggeeft als het getal m slaagt voor de sterke a-pseudopriemtest."
   ]
  },
  {
   "cell_type": "code",
   "execution_count": null,
   "metadata": {},
   "outputs": [],
   "source": [
    "def mod_exp_seq(a, b, m):\n",
    "    #vul aan\n",
    "    return seq\n",
    "    "
   ]
  },
  {
   "cell_type": "code",
   "execution_count": null,
   "metadata": {},
   "outputs": [],
   "source": [
    "def strong_pseudoprime(a, m): \n",
    "    # vul aan\n",
    "    if ...\n",
    "        return False \n",
    "    else:\n",
    "        return True\n",
    "    "
   ]
  },
  {
   "cell_type": "code",
   "execution_count": null,
   "metadata": {},
   "outputs": [],
   "source": [
    "print(strong_pseudoprime(2, 257))\n",
    "print(strong_pseudoprime(2, 561))\n",
    "print(strong_pseudoprime(2, 287))"
   ]
  },
  {
   "cell_type": "markdown",
   "metadata": {},
   "source": [
    "In max. 1 zin per getal, wat kunnen we concluderen over de getallen uit bovenstaande getallen?"
   ]
  },
  {
   "cell_type": "markdown",
   "metadata": {},
   "source": [
    "**Antwoord**:"
   ]
  },
  {
   "cell_type": "markdown",
   "metadata": {},
   "source": [
    "## RSA"
   ]
  },
  {
   "cell_type": "markdown",
   "metadata": {},
   "source": [
    "Bij RSA worden boodschappen niet noodzakelijk letter per letter vercijferd, maar in blokken van zo groot mogelijke\n",
    "woorden. Bijvoorbeeld voor $2626<m \\leq 262626$ krijgen blokken van lengte 2: $zz$ wordt $2626$ en $aa$ wordt $101$.\n",
    "Het gebruikte alfabet is hieronder weergegeven."
   ]
  },
  {
   "cell_type": "markdown",
   "metadata": {},
   "source": [
    "\n",
    "|_|a|b|c|d|e|f|g|h|i|j|k|l|m|n|o|p|q|r|s|t|u|v|w|x|y|z|\n",
    "|-|-|-|-|-|-|-|-|-|-|-|-|-|-|-|-|-|-|-|-|-|-|-|-|-|-|-|\n",
    "|   0  | 1 | 2| 3| 4| 5|6|7|8|9|10|11|12|13|14|15|16|17|18|19|20|21|22|23|24|25|26|\n"
   ]
  },
  {
   "cell_type": "markdown",
   "metadata": {},
   "source": [
    "Implementeer eerst een methode die op basis van de modulus bepaalt hoe lang de woorden zijn."
   ]
  },
  {
   "cell_type": "code",
   "execution_count": null,
   "metadata": {},
   "outputs": [],
   "source": [
    "alfabet=' abcdefghijklmnopqrstuvwxyz'"
   ]
  },
  {
   "cell_type": "code",
   "execution_count": null,
   "metadata": {},
   "outputs": [],
   "source": [
    "def length(m):\n",
    "    #vul aan\n",
    "    return l"
   ]
  },
  {
   "cell_type": "markdown",
   "metadata": {},
   "source": [
    "Vul nu de volgende methode aan zodat de boodschap vercijferd wordt met de RSA methode. Het resultaat is een lijst met gehele getallen modulo $p\\cdot q$. \n",
    "Je mag er van uit gaan dat de lengte van elke onversleutelde boodschap een veelvoud is van `length(p*q)`.\n",
    "Als je wil kan je eerst aparte methoden schrijven om een boodschap naar een reeks (onversleutelde) getallen te vertalen en terug."
   ]
  },
  {
   "cell_type": "code",
   "execution_count": null,
   "metadata": {},
   "outputs": [],
   "source": [
    "def encrypt(message, e, p, q):\n",
    "    #vul aan\n",
    "    return encr"
   ]
  },
  {
   "cell_type": "markdown",
   "metadata": {},
   "source": [
    "Om een boodschap te ontcijferen moet je ongeveer hetzelfde doen. Vul onderstaande methode verder aan zodat je een enkele string met de originele boodschap krijgt."
   ]
  },
  {
   "cell_type": "code",
   "execution_count": null,
   "metadata": {},
   "outputs": [],
   "source": [
    "def decrypt(numbers, d, p, q):\n",
    "    #vul aan\n",
    "    return decr"
   ]
  },
  {
   "cell_type": "markdown",
   "metadata": {},
   "source": [
    "Als alles goed gaat moet het volgende True weergeven."
   ]
  },
  {
   "cell_type": "code",
   "execution_count": null,
   "metadata": {},
   "outputs": [],
   "source": [
    "message = 'test'\n",
    "c = encrypt(message, 5, 19, 17)\n",
    "w = decrypt(c, 173, 19, 17)\n",
    "w == message"
   ]
  },
  {
   "cell_type": "markdown",
   "metadata": {},
   "source": [
    "Ontcijfer volgende boodschappen. De decoderingssleutels heb je berekend tijdens oefeningenreeks 3.\n",
    "- $(m, e) = (33, 3) \\rightarrow [17, 26, 12, 12, 9, 0, 23, 9, 24, 12, 31]$\n",
    "- $(m, e) = (8023, 3)\\rightarrow [6018, 1053, 343, 1053, 3357, 5632]$"
   ]
  },
  {
   "cell_type": "code",
   "execution_count": null,
   "metadata": {},
   "outputs": [],
   "source": []
  },
  {
   "cell_type": "markdown",
   "metadata": {},
   "source": [
    "**Extra** (niet vereist voor het behalen van de 0.5 punten voor het examen): Schrijf een methode die gegeven een modulus $m$ en een encryptiesleutel $e$, de decryptiesleutel $d$ berekent. Voor verschillend groottes van $m$, vergelijk de snelheid van het ver- en ontsleutelen van boodschappen met de snelheid van het berekenen van $d$."
   ]
  },
  {
   "cell_type": "code",
   "execution_count": null,
   "metadata": {},
   "outputs": [],
   "source": []
  }
 ],
 "metadata": {
  "kernelspec": {
   "display_name": "Python 3 (ipykernel)",
   "language": "python",
   "name": "python3"
  },
  "language_info": {
   "codemirror_mode": {
    "name": "ipython",
    "version": 3
   },
   "file_extension": ".py",
   "mimetype": "text/x-python",
   "name": "python",
   "nbconvert_exporter": "python",
   "pygments_lexer": "ipython3",
   "version": "3.10.6"
  }
 },
 "nbformat": 4,
 "nbformat_minor": 4
}
