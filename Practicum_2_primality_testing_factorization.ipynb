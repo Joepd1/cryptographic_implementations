{
 "cells": [
  {
   "cell_type": "markdown",
   "metadata": {},
   "source": [
    "# Practicum 2: Priemtesten en factorisatie"
   ]
  },
  {
   "cell_type": "markdown",
   "metadata": {},
   "source": [
    "**Naam**: "
   ]
  },
  {
   "cell_type": "markdown",
   "metadata": {},
   "source": [
    "# 1) De Miller-Rabin priemtest\n",
    "\n",
    "**Opmerking:** Deze opgave is een aanvulling op practicum 1. Om de vier huistaken onafhankelijk van elkaar te houden, is het juist implementeren van deze opgave niet vereist voor het behalen van het 0.5 punt op het examen. De Miller-Rabin priemtest is echter één van de belangrijkste topics in de cursus, dus hem eens implementeren is warm aanbevolen (en niet heel veel werk als je practicum 1 hebt gedaan).\n",
    "\n",
    "Voor deze opgave heb je de methode $\\texttt{strong_pseudoprime}$ uit het vorige notebook nodig. Je kan deze hieronder kopieren:"
   ]
  },
  {
   "cell_type": "code",
   "execution_count": null,
   "metadata": {},
   "outputs": [],
   "source": [
    "#kopieer uit het vorige notebook de hulpmethodes nodig voor strong_pseudoprime\n",
    "\n",
    "def strong_pseudoprime(a, m): \n",
    "    # kopieer uit het vorige notebook\n"
   ]
  },
  {
   "cell_type": "markdown",
   "metadata": {},
   "source": [
    "**Opgave:** Implementeer de Miller-Rabin priemtest. De methode $\\texttt{miller_rabin(m, k)}$ neemt als argument het getal $m$ waarvoor je wil controleren of het een priemgetal is of niet en een getal $k$ dat aangeeft op hoeveel willekeurig getallen de $\\texttt{strong_pseudoprime}$ moet uitgevoerd worden. De methode geeft $\\texttt{True}$ terug indien $m$ hoogstwaarschijnlijk een priemgetal is en anders $\\texttt{False}$."
   ]
  },
  {
   "cell_type": "code",
   "execution_count": null,
   "metadata": {},
   "outputs": [],
   "source": [
    "import random\n",
    "\n",
    "def miller_rabin(m, k=200):\n",
    "    "
   ]
  },
  {
   "cell_type": "markdown",
   "metadata": {},
   "source": [
    "Pas de testen dan toe op volgende getallen:\n",
    "+ 257\n",
    "+ 561\n",
    "+ 287\n",
    "+ 3825123056546413051\n",
    "\n",
    "Wat kan je besluiten over de getallen? Vergelijk met het resultaat uit vorige notebook."
   ]
  },
  {
   "cell_type": "code",
   "execution_count": null,
   "metadata": {},
   "outputs": [],
   "source": [
    "miller_rabin(257)"
   ]
  },
  {
   "cell_type": "code",
   "execution_count": null,
   "metadata": {},
   "outputs": [],
   "source": [
    "miller_rabin(561)"
   ]
  },
  {
   "cell_type": "code",
   "execution_count": null,
   "metadata": {},
   "outputs": [],
   "source": [
    "miller_rabin(287)"
   ]
  },
  {
   "cell_type": "code",
   "execution_count": null,
   "metadata": {},
   "outputs": [],
   "source": [
    "miller_rabin(3825123056546413051)"
   ]
  },
  {
   "cell_type": "markdown",
   "metadata": {},
   "source": [
    "# 2) Drie algoritmes voor factorisatie"
   ]
  },
  {
   "cell_type": "markdown",
   "metadata": {},
   "source": [
    "## 2.1) Trial division"
   ]
  },
  {
   "cell_type": "markdown",
   "metadata": {},
   "source": [
    "De meest eenvoudig te begrijpen manier om een getal te factoriseren in priemfactoren is trial division. Implementeeer de methode $\\texttt{trial_division(n)}$ die een lijst teruggeeft met priemfactoren van $n$. "
   ]
  },
  {
   "cell_type": "code",
   "execution_count": null,
   "metadata": {},
   "outputs": [],
   "source": [
    "def trial_division(n):\n",
    "    #vul aan"
   ]
  },
  {
   "cell_type": "code",
   "execution_count": null,
   "metadata": {},
   "outputs": [],
   "source": [
    "#Om te testen\n",
    "trial_division(8683)"
   ]
  },
  {
   "cell_type": "markdown",
   "metadata": {},
   "source": [
    "## 2.2) Shor's algoritme"
   ]
  },
  {
   "cell_type": "markdown",
   "metadata": {},
   "source": [
    "Hieronder implementeren we stapsgewijs het algoritme van Shor voor het factoriseren van een getal $m$ in twee priemfactoren $p$ en $q$ zodat $m = p\\cdot q$. Voor grootste gemene delers en modulaire machtsverheffing kan je ofwel de ingebouwde methodes $\\texttt{math.gcd}$ en $\\texttt{pow}$ gebruiken, ofwel de methodes die je op het vorige practicum zelf geimplementeerd hebt. \n",
    "\n",
    "Definieer eerst een methode $\\texttt{order}$ die gegeven $m$ en $a$ (met $\\gcd(a,m)=1$) de orde van $a$ modulo $m$ berekent."
   ]
  },
  {
   "cell_type": "code",
   "execution_count": null,
   "metadata": {},
   "outputs": [],
   "source": [
    "def order(a, m):\n",
    "    #vul aan"
   ]
  },
  {
   "cell_type": "markdown",
   "metadata": {},
   "source": [
    "Implementeer nu Shor's algoritme. Je mag ervan uitgaan dat $m$ het product is van exact twee verschillende oneven priemgetallen. $N$ is het aantal pogingen."
   ]
  },
  {
   "cell_type": "code",
   "execution_count": null,
   "metadata": {},
   "outputs": [],
   "source": [
    "import math\n",
    "def schor(m,N=100):\n",
    "    #Vul aan\n"
   ]
  },
  {
   "cell_type": "code",
   "execution_count": null,
   "metadata": {},
   "outputs": [],
   "source": [
    "#Om te testen\n",
    "schor(8683)"
   ]
  },
  {
   "cell_type": "markdown",
   "metadata": {},
   "source": [
    "Vergelijk nu de snelheid van de implementaties. Gebruik hiervoor [timeit](https://docs.python.org/2/library/timeit.html). "
   ]
  },
  {
   "cell_type": "code",
   "execution_count": null,
   "metadata": {},
   "outputs": [],
   "source": []
  },
  {
   "cell_type": "markdown",
   "metadata": {},
   "source": [
    "## 2.3) Stelling van Boneh"
   ]
  },
  {
   "cell_type": "markdown",
   "metadata": {},
   "source": [
    "Het bewijs van de stelling van Boneh uit de cursus is constructief en biedt dus een manier om $m = p\\cdot q$ te factoriseren. Implementeer een methode $\\texttt{boneh(m, e, d, n)}$ die met een hoge waarschijnlijkheid $p$ en $q$ vindt, gegeven het getal $m$, de encryptie en decryptiesleutel $e, d$ en een gekozen aantal willekeurige getallen $n$."
   ]
  },
  {
   "cell_type": "code",
   "execution_count": null,
   "metadata": {},
   "outputs": [],
   "source": [
    "def boneh(m, e, d, n=10):\n",
    "    #Vul aan"
   ]
  },
  {
   "cell_type": "code",
   "execution_count": null,
   "metadata": {},
   "outputs": [],
   "source": [
    "#Om te testen\n",
    "boneh(8683, 5, 4925)"
   ]
  },
  {
   "cell_type": "markdown",
   "metadata": {},
   "source": [
    "Zoals in de cursus uitgelegd kan RSA gebruikt worden om een digitale handtekening te versturen. De methode is gebaseerd op het feit dat de decryptiemacht maar door een partij gekend is en ook als encryptiemacht kan gebruikt worden.\n",
    "\n",
    "Stel je nu voor dat Alice, financieel adviseur, twee clienten heeft, Bob en Evan. Bob en Evan bevinden zich aan tegenovergestelde zijdes van een familiedispuut. Alice gebruikt de volgende modulus\n",
    "$m = 1111111102008654320180890123364778888888889$ \n",
    "voor zowel Bob als Evan. De encryptiemachten $e_E = 3$ en $e_B = 13$ zijn publiek. Alice vertelt aan Evan dat zijn decryptiemacht gelijk is aan\n",
    "$d_E=740740734672436213452503703649125267489707$.\n",
    "Beschrijf (met berekeningen) hoe Evan deze info kan gebruiken om frauduleuze berichten te sturen in Bob's naam."
   ]
  },
  {
   "cell_type": "code",
   "execution_count": null,
   "metadata": {},
   "outputs": [],
   "source": [
    "m=1111111102008654320180890123364778888888889\n",
    "eE=3\n",
    "eB=13\n",
    "dE=740740734672436213452503703649125267489707"
   ]
  },
  {
   "cell_type": "code",
   "execution_count": null,
   "metadata": {},
   "outputs": [],
   "source": [
    "#Bereken hier de decryptiemacht dB "
   ]
  },
  {
   "cell_type": "markdown",
   "metadata": {},
   "source": [
    "**Antwoord**: $d_B=\\cdots$\n",
    "\n",
    "**Uitleg**: ..."
   ]
  },
  {
   "cell_type": "code",
   "execution_count": null,
   "metadata": {},
   "outputs": [],
   "source": []
  }
 ],
 "metadata": {
  "kernelspec": {
   "display_name": "Python 3 (ipykernel)",
   "language": "python",
   "name": "python3"
  },
  "language_info": {
   "codemirror_mode": {
    "name": "ipython",
    "version": 3
   },
   "file_extension": ".py",
   "mimetype": "text/x-python",
   "name": "python",
   "nbconvert_exporter": "python",
   "pygments_lexer": "ipython3",
   "version": "3.10.6"
  }
 },
 "nbformat": 4,
 "nbformat_minor": 4
}
