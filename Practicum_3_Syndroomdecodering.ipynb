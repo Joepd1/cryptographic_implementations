{
 "cells": [
  {
   "cell_type": "markdown",
   "metadata": {},
   "source": [
    "# Practicum 3: Syndroomdecodering"
   ]
  },
  {
   "cell_type": "markdown",
   "metadata": {},
   "source": [
    "<u>Naam:</u>"
   ]
  },
  {
   "cell_type": "markdown",
   "metadata": {},
   "source": [
    "In dit practicum zullen we stap voor stap de syndroomdecodering met lineaire blokcodes implementeren. Gegeven een de generatormatrix $F$ en een codewoord, al dan niet met fout, is het de bedoeling om het originele woord te vinden."
   ]
  },
  {
   "cell_type": "markdown",
   "metadata": {},
   "source": [
    "## Gauss eliminatie\n",
    "\n",
    "In de cursus werd gesteld dat elke generatormatrix kan omgevormd worden tot een equivalente generatormatrix met getransponeerde in volledige rij-echolonvorm. Om de code in standaardvorm te brengen is het dus de bedoeling om Gauss-eliminatie toe te passen op de getransponeerde van de generatormatrix. \n",
    "\n",
    "Implementeer hieronder de methode $\\texttt{gauss(A, p)}$ die een $m \\times n$ matrix $A$ in reduced row echelon vorm brengt. Je mag er hierbij van uitgaan dat $m \\leq n$, en dat de eerste $m$ kolommen van $A$ lineair onafhankelijk zijn, d.w.z. dat er geen kolompermutaties nodig zijn. Om te rekenen met matrices kan je bijvoorbeeld the numpy-implementatie $\\texttt{numpy.array}$ of de sympy-implementatie $\\texttt{sympy.Matrix}$ gebruiken, aan jou de keuze. \n",
    "\n",
    "We werken steeds in het eindig veld $\\mathbb{Z}_p$ met $p$ elementen. Een deling door een bepaald getal wordt dus vervangen door een vermeningvuldiging met het multiplicatief invers van dat getal. Om deze te berekenen mag je de ingebouwde methode $\\texttt{pow(a,-1,p)}$ gebruiken."
   ]
  },
  {
   "cell_type": "code",
   "execution_count": null,
   "metadata": {},
   "outputs": [],
   "source": [
    "#uncomment de packages die je niet gebruikt\n",
    "import sympy\n",
    "import numpy\n",
    "\n",
    "def gauss(A,p):\n",
    "    #vul aan"
   ]
  },
  {
   "cell_type": "markdown",
   "metadata": {},
   "source": [
    "## Syndroomdecoderingstabel\n",
    "\n",
    "Voor de decodering heb je de syndroomdecoderingstabel nodig. Deze geeft aan welk syndroom door welke fout veroorzaakt wordt. Hiervoor heb je eerst de pariteitsmatrix nodig, die je uit de standaardvorm van de generatormatrix haalt. De methode $\\texttt{parity_matrix(F, p)}$ berekent de pariteitsmatrix, gegeven een algemene generatormatrix $F$ over het veld $\\mathbb{Z}_p$. De methode $\\texttt{decoding_table(H, p)}$ geeft de syndroomdecoderingstabel weer in de vorm van een dictionary. De input $H$ is de pariteitsmatrix van een code."
   ]
  },
  {
   "cell_type": "code",
   "execution_count": null,
   "metadata": {},
   "outputs": [],
   "source": [
    "import itertools \n",
    "\n",
    "def parity_matrix(F,p):\n",
    "    #vul aan\n",
    "\n",
    "def decoding_table(H,p):\n",
    "    #vul aan"
   ]
  },
  {
   "cell_type": "markdown",
   "metadata": {},
   "source": [
    "## Decodering\n",
    "\n",
    "Implementeer hieronder een methode $\\texttt{decode(c, H, T, p)}$ die een lijst met eventuele codewoorden $m$ decodeert in het veld $\\mathbb{Z}_p$ gegeven de pariteitsmatrix $H$ en de decoderingstabel $T$, waarbij tijdens de transmissie al dan niet fouten zijn toegevoegd. "
   ]
  },
  {
   "cell_type": "code",
   "execution_count": null,
   "metadata": {},
   "outputs": [],
   "source": [
    "def decode(c,H,T,p):\n",
    "    #vul aan"
   ]
  },
  {
   "cell_type": "markdown",
   "metadata": {},
   "source": [
    "Test je implementatie:"
   ]
  },
  {
   "cell_type": "code",
   "execution_count": null,
   "metadata": {},
   "outputs": [],
   "source": [
    "#Kies je gekozen implementatie:\n",
    "#F = sympy.Matrix([[1,1,1,2,0,1],[2,0,2,1,2,1],[1,1,0,1,0,2]]).T\n",
    "#F = numpy.array([[1,1,1,2,0,1],[2,0,2,1,2,1],[1,1,0,1,0,2]]).T\n",
    "H = parity_matrix(F,3)\n",
    "H"
   ]
  },
  {
   "cell_type": "code",
   "execution_count": null,
   "metadata": {},
   "outputs": [],
   "source": [
    "table=decoding_table(H,3)\n",
    "c = [[1, 0, 2, 0,  1, 1], [1, 2, 2, 0, 1, 1], [1,1,1,2,0,1]]\n",
    "m = decode(c, H, table, 3)\n",
    "m == [[1, 0, 2], [1, 0, 2], [1, 1, 1]]"
   ]
  }
 ],
 "metadata": {
  "kernelspec": {
   "display_name": "Python 3 (ipykernel)",
   "language": "python",
   "name": "python3"
  },
  "language_info": {
   "codemirror_mode": {
    "name": "ipython",
    "version": 3
   },
   "file_extension": ".py",
   "mimetype": "text/x-python",
   "name": "python",
   "nbconvert_exporter": "python",
   "pygments_lexer": "ipython3",
   "version": "3.10.6"
  }
 },
 "nbformat": 4,
 "nbformat_minor": 4
}
