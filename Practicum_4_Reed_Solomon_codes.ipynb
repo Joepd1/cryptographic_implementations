{
 "cells": [
  {
   "cell_type": "markdown",
   "metadata": {},
   "source": [
    "# Practicum 4: Reed-Solomon codes\n",
    "\n",
    "<u> Naam: </u> \n",
    "\n",
    "In deze notebook zullen we trachten de Reed-Solomon code te implementeren. "
   ]
  },
  {
   "cell_type": "markdown",
   "metadata": {},
   "source": [
    "## Matrices en veeltermen over eindige velden\n",
    "    \n",
    "Voor dit practicum heb je opnieuw Gauss eliminatie over het veld $\\mathbb{Z}_p$ nodig. Je kan deze ofwel kopieren uit practicum 3, ofwel de volgende implementatie gebruiken.  Deze heeft als input en output een numpy-array $M$ van gehele getallen.\n",
    "\n",
    "<b>Opmerking:</b> In practicum 3 is het de bedoeling Gauss eliminatie zelf te implementeren, zonder de ingebouwde sympy-functie $\\texttt{rref()}$. Het is dus niet de bedoeling de onderstaande functie te kopieren naar practicum 3."
   ]
  },
  {
   "cell_type": "code",
   "execution_count": 1,
   "metadata": {},
   "outputs": [],
   "source": [
    "import numpy as np\n",
    "from sympy.polys.matrices import DomainMatrix\n",
    "from sympy import GF\n",
    "\n",
    "def gauss(M,p):\n",
    "    #Zet M op naar een sympy DomainMatrix over het eindig veld Z_p\n",
    "    F=GF(p)\n",
    "    M=np.vectorize(lambda t: F(t))(M)\n",
    "    M=DomainMatrix(M.tolist(), M.shape, F)\n",
    "    #Pas de sympy-functie rref() toe; deze werkt ook over eindige velden\n",
    "    M=M.rref()[0]\n",
    "    #Zet M terug om naar een numpy array\n",
    "    M=np.array(M.to_list())\n",
    "    M=np.vectorize(lambda t: int(t) % p)(M)\n",
    "    return M"
   ]
  },
  {
   "cell_type": "markdown",
   "metadata": {},
   "source": [
    "Om te rekenen met veeltermen kan je bijvoorbeeld de ingebouwde implementatie in sympy gebruiken. Een voorbeeld:"
   ]
  },
  {
   "cell_type": "code",
   "execution_count": 2,
   "metadata": {},
   "outputs": [
    {
     "name": "stdout",
     "output_type": "stream",
     "text": [
      "[-2, -1, -1, 2]\n"
     ]
    },
    {
     "data": {
      "text/latex": [
       "$\\displaystyle \\operatorname{Poly}{\\left( -2 x^{3} - x^{2} - x + 2, x, domain=\\mathbb{F}_{5} \\right)}$"
      ],
      "text/plain": [
       "Poly(-2*x**3 - x**2 - x + 2, x, modulus=5)"
      ]
     },
     "execution_count": 2,
     "metadata": {},
     "output_type": "execute_result"
    }
   ],
   "source": [
    "from sympy import Poly\n",
    "from sympy import symbols\n",
    "x=symbols('x')\n",
    "\n",
    "a=Poly([3,4,4,2],x,modulus=5)\n",
    "print(a.all_coeffs())\n",
    "a"
   ]
  },
  {
   "cell_type": "markdown",
   "metadata": {},
   "source": [
    "Deling met rest van veeltermen kan je nu gewoon doen met de operaties $\\verb|\\\\|$ en $\\verb|%|$:"
   ]
  },
  {
   "cell_type": "code",
   "execution_count": 3,
   "metadata": {},
   "outputs": [
    {
     "name": "stdout",
     "output_type": "stream",
     "text": [
      "Poly(-2*x**2 - 2*x - 2, x, modulus=5)\n",
      "Poly(1, x, modulus=5)\n",
      "True\n"
     ]
    }
   ],
   "source": [
    "b=Poly([1,2],x,modulus=5)\n",
    "q=a//b\n",
    "r=a%b\n",
    "print(q)\n",
    "print(r)\n",
    "print(a==b*q+r)"
   ]
  },
  {
   "cell_type": "markdown",
   "metadata": {},
   "source": [
    "## Coderen\n",
    "We beschouwen een $(N,n,2e+1)_p$ Reed-Solomoncode, waarbij $N=n+2e$. De informatiewoorden zijn dus (coëfficiëntenlijsten van) veeltermen van graad $n-1$ over het veld $\\mathbb{Z}_p$.\n",
    "\n",
    "Implementeer de method $\\texttt{encode(w, a, p)}$ die een informatiewoord $w$, bestaande uit $n$ elementen van het veld $\\mathbb{Z}_p$ omzet in een codewoord, gegeven de lijst van $N$ interpolatiepunten $a$."
   ]
  },
  {
   "cell_type": "code",
   "execution_count": null,
   "metadata": {},
   "outputs": [],
   "source": [
    "def encode(w, a, p):\n",
    "       #vul aan"
   ]
  },
  {
   "cell_type": "markdown",
   "metadata": {},
   "source": [
    "Als je dit juist geimplementeerd hebt, zou hier $\\texttt{True}$ moeten verschijnen:"
   ]
  },
  {
   "cell_type": "code",
   "execution_count": null,
   "metadata": {},
   "outputs": [],
   "source": [
    "w = np.array([1,2,3])\n",
    "a = np.array([1,2,3,4,5,6,7])\n",
    "p = 11\n",
    "print((encode(w,a,p)==np.array([6, 6, 1, 2, 9, 0, 8])).all())"
   ]
  },
  {
   "cell_type": "markdown",
   "metadata": {},
   "source": [
    "## Inefficiënte Welch–Berlekampdecodering\n",
    "\n",
    "(Dit deel is optioneel: als je meteen het efficiënte Welch–Berlekamp algoritme wil doen kan je dit overslaan. Het lijkt me echter eenvoudiger eerst het inefficiënte algoritme te implementeren.)\n",
    "\n",
    "Implementeer het inefficiënte Welch–Berlekamp algoritme $\\texttt{decode_inefficient(c, n, p, a)}$. Hier is $c$ het ontvangen codewoord, $n$ de lengte van de klaartextwoorden, $p$ het gekozen priemgetal, en $a$ de interpolatiepunten."
   ]
  },
  {
   "cell_type": "code",
   "execution_count": null,
   "metadata": {},
   "outputs": [],
   "source": [
    "def decode_inefficient(c, n, p, a):\n",
    "    #vul aan"
   ]
  },
  {
   "cell_type": "markdown",
   "metadata": {},
   "source": [
    "Eerste test: opgave 4 van sessie 7. Je zou $[3,3]$ moeten uitkomen."
   ]
  },
  {
   "cell_type": "code",
   "execution_count": null,
   "metadata": {},
   "outputs": [],
   "source": [
    "decode_inefficient([1,4,2,2],2,5,[1,2,4,8])"
   ]
  },
  {
   "cell_type": "markdown",
   "metadata": {},
   "source": [
    "Tweede test: Als alles goed gegaan is zou hier nu enkel $\\texttt{True}$ mogen verschijnen."
   ]
  },
  {
   "cell_type": "code",
   "execution_count": null,
   "metadata": {},
   "outputs": [],
   "source": [
    "w = [1,3,5,6]\n",
    "p = 11\n",
    "N = 8\n",
    "a = [1,2,3,4,5,6,7,8]\n",
    "c = encode(w, a, p)\n",
    "\n",
    "# Decoderen zonder fouten:\n",
    "print((w == decode_inefficient(c, 4, p, a)))\n",
    "\n",
    "# Decoderen met het maximaal aantal fouten:\n",
    "c[0] += 3\n",
    "c[2] += 9\n",
    "c %= p\n",
    "\n",
    "print((w == decode_inefficient(c, 4, p, a)))"
   ]
  },
  {
   "cell_type": "markdown",
   "metadata": {},
   "source": [
    "## Efficiënte Welch–Berlekampdecodering\n",
    "Implementeer eerst het Cooley-Tukey algoritme: gegeven een vector $x$ van lengte $N$ over het veld $\\mathbb{Z}_p$ en een primitieve $N$-de eenheidswortel $\\alpha$, bereken de discrete Fouriertransformatie $\\mathcal{F}_{\\alpha}x$.\n",
    "\n",
    "Je mag er van uit gaan dat je input wel degelijk zo gekozen is dat $\\alpha$ een primitieve $N$-de eenheidswortel is, en ook dat $N$ een macht van 2 is."
   ]
  },
  {
   "cell_type": "code",
   "execution_count": null,
   "metadata": {},
   "outputs": [],
   "source": [
    "def cooley_tukey(alpha,x,p):\n",
    "    #vul aan"
   ]
  },
  {
   "cell_type": "markdown",
   "metadata": {},
   "source": [
    "Als je dit juist geimplementeerd hebt, zou hier $\\texttt{True}$ moeten verschijnen:"
   ]
  },
  {
   "cell_type": "code",
   "execution_count": null,
   "metadata": {},
   "outputs": [],
   "source": [
    "cooley_tukey(2,[0,2,0,1],5) == [3,2,2,3]"
   ]
  },
  {
   "cell_type": "markdown",
   "metadata": {},
   "source": [
    "Voor de efficiënte Welch–Berlekampdecodering kiezen we $p$ een Fermat-priemgetal, $N=p-1$ (dit is een macht van 2), en $a=(1,\\alpha,\\alpha^2,\\ldots,\\alpha^{N-1})$. Implementeer eerst een functie die gegeven $\\alpha$ en $p$ de interpolatiepunten $a$ berekent."
   ]
  },
  {
   "cell_type": "code",
   "execution_count": null,
   "metadata": {},
   "outputs": [],
   "source": [
    "def alpha_to_a(alpha,p):\n",
    "    #vul aan"
   ]
  },
  {
   "cell_type": "markdown",
   "metadata": {},
   "source": [
    "Nu zijn we klaar om het efficiënte Welch–Berlekampalgoritme te implementeren."
   ]
  },
  {
   "cell_type": "code",
   "execution_count": null,
   "metadata": {},
   "outputs": [],
   "source": [
    "def decode_efficient(c, n, p, alpha):\n",
    "    #vul aan"
   ]
  },
  {
   "cell_type": "markdown",
   "metadata": {},
   "source": [
    "Eerste test: opgave 4 van sessie 7."
   ]
  },
  {
   "cell_type": "code",
   "execution_count": null,
   "metadata": {},
   "outputs": [],
   "source": [
    "decode_efficient([1,4,2,2],2,5,2)"
   ]
  },
  {
   "cell_type": "markdown",
   "metadata": {},
   "source": [
    "Met de onderstaande code kan je je algoritmes testen. De waarden van $k$ en $e$ kan je zelf kiezen, de rest zou je niet moeten veranderen. Het gekozen priemgetal is $p=2^{2^k}+1$ met $k \\in \\{1,2,3,4\\}$. Het aantal fouten dat je kan verbeteren is $e$.\n",
    "\n",
    "Je code laten werken voor $k=4$ (dus $p=65537$) vergt wellicht heel wat extra optimalisatie; voor dit practicum volstaat het als je implementatie werkt voor $k=3$ (dus $p=257$)."
   ]
  },
  {
   "cell_type": "code",
   "execution_count": null,
   "metadata": {},
   "outputs": [],
   "source": [
    "#Als het met de onderstaande waarden te lang duurt, probeer eerst $k=2$ en $e=4$.\n",
    "k=3\n",
    "e=100\n",
    "\n",
    "N=2**(2**k)\n",
    "n=N-2*e\n",
    "p=N+1\n",
    "print(\"Dit is een (\"+\",\".join([str(N),str(n),str(2*e+1)])+\")_\"+str(p)+\"-code\")\n",
    "alpha=3\n",
    "a=alpha_to_a(alpha,p)\n",
    "\n",
    "from random import randint\n",
    "w=[randint(0,N) for _ in range(n)]\n",
    "print(\"Klaartext:\")\n",
    "print(w)\n",
    "c=encode(w,a,p)\n",
    "print(\"Verstuurde boodschap:\")\n",
    "print(c)\n",
    "\n",
    "#We maken fouten in e willekeurige plaatsen\n",
    "from random import sample\n",
    "for j in sample(range(N),e):\n",
    "    c[j]=randint(0,N)\n",
    "print(\"Ontvangen boodschap:\")\n",
    "print(c)\n",
    "\n",
    "print(\"Tijd voor efficiente decodering:\")\n",
    "%time d1=decode_efficient(c,n,p,alpha)\n",
    "print(\"Efficiente decodering correct?\")\n",
    "print(d1==w)\n",
    "print(\"Tijd voor inefficiente decodering:\")\n",
    "%time d2=decode_inefficient(c,n,p,a)\n",
    "print(\"Inefficiente decodering correct?\")\n",
    "print(d2==w)"
   ]
  }
 ],
 "metadata": {
  "kernelspec": {
   "display_name": "Python 3 (ipykernel)",
   "language": "python",
   "name": "python3"
  },
  "language_info": {
   "codemirror_mode": {
    "name": "ipython",
    "version": 3
   },
   "file_extension": ".py",
   "mimetype": "text/x-python",
   "name": "python",
   "nbconvert_exporter": "python",
   "pygments_lexer": "ipython3",
   "version": "3.10.6"
  }
 },
 "nbformat": 4,
 "nbformat_minor": 4
}
